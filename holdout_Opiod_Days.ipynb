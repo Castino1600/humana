{
 "cells": [
  {
   "cell_type": "code",
   "execution_count": 1,
   "metadata": {},
   "outputs": [],
   "source": [
    "import pandas as pd\n",
    "import matplotlib.pyplot as plt\n",
    "import numpy as np"
   ]
  },
  {
   "cell_type": "code",
   "execution_count": 3,
   "metadata": {},
   "outputs": [
    {
     "name": "stderr",
     "output_type": "stream",
     "text": [
      "/Users/Janey_jiayan/anaconda3/lib/python3.6/site-packages/IPython/core/interactiveshell.py:2698: DtypeWarning: Columns (8) have mixed types. Specify dtype option on import or set low_memory=False.\n",
      "  interactivity=interactivity, compiler=compiler, result=result)\n"
     ]
    }
   ],
   "source": [
    "holdout = pd.read_csv('/Users/Janey_jiayan/Downloads/Humana_Data/HMAHCC_HOLDOUT.csv')"
   ]
  },
  {
   "cell_type": "code",
   "execution_count": 4,
   "metadata": {},
   "outputs": [
    {
     "data": {
      "text/html": [
       "<div>\n",
       "<style>\n",
       "    .dataframe thead tr:only-child th {\n",
       "        text-align: right;\n",
       "    }\n",
       "\n",
       "    .dataframe thead th {\n",
       "        text-align: left;\n",
       "    }\n",
       "\n",
       "    .dataframe tbody tr th {\n",
       "        vertical-align: top;\n",
       "    }\n",
       "</style>\n",
       "<table border=\"1\" class=\"dataframe\">\n",
       "  <thead>\n",
       "    <tr style=\"text-align: right;\">\n",
       "      <th></th>\n",
       "      <th>ID</th>\n",
       "      <th>EVENT_DESCR</th>\n",
       "      <th>EVENT_ATTR1</th>\n",
       "      <th>EVENT_ATTR2</th>\n",
       "      <th>EVENT_ATTR3</th>\n",
       "      <th>EVENT_ATTR4</th>\n",
       "      <th>EVENT_ATTR5</th>\n",
       "      <th>EVENT_ATTR6</th>\n",
       "      <th>EVENT_ATTR7</th>\n",
       "      <th>EVENT_ATTR8</th>\n",
       "      <th>EVENT_ATTR9</th>\n",
       "      <th>EVENT_ATTR10</th>\n",
       "      <th>PAY_DAY_SUPPLY_CNT</th>\n",
       "      <th>PAYABLE_QTY</th>\n",
       "      <th>MME</th>\n",
       "      <th>DRUG_TYPE</th>\n",
       "      <th>SPECIALTY</th>\n",
       "      <th>SPECIALTY2</th>\n",
       "      <th>SPECIALTY3</th>\n",
       "      <th>days</th>\n",
       "    </tr>\n",
       "  </thead>\n",
       "  <tbody>\n",
       "    <tr>\n",
       "      <th>0</th>\n",
       "      <td>ID98975196852</td>\n",
       "      <td>RX Claim - Rejected</td>\n",
       "      <td>DENY DUE TO ERRORS</td>\n",
       "      <td>SYMPTOMS, SIGNS, ILL DEFINED CONDITIONS</td>\n",
       "      <td>NO DUAL COVERAGE</td>\n",
       "      <td>COPAY EXCEPTIONS</td>\n",
       "      <td>AMBIEN</td>\n",
       "      <td>ZOLPIDEM TARTRATE TAB 10 MG</td>\n",
       "      <td>2.45421e+07</td>\n",
       "      <td>180</td>\n",
       "      <td>510.00</td>\n",
       "      <td>NaN</td>\n",
       "      <td>NaN</td>\n",
       "      <td>NaN</td>\n",
       "      <td>NaN</td>\n",
       "      <td>NaN</td>\n",
       "      <td>NaN</td>\n",
       "      <td>NaN</td>\n",
       "      <td>NaN</td>\n",
       "      <td>-964</td>\n",
       "    </tr>\n",
       "    <tr>\n",
       "      <th>1</th>\n",
       "      <td>ID98975196852</td>\n",
       "      <td>RX Claim - Rejected</td>\n",
       "      <td>DENY DUE TO ERRORS</td>\n",
       "      <td>SYMPTOMS, SIGNS, ILL DEFINED CONDITIONS</td>\n",
       "      <td>NO DUAL COVERAGE</td>\n",
       "      <td>COPAY EXCEPTIONS</td>\n",
       "      <td>AMBIEN</td>\n",
       "      <td>ZOLPIDEM TARTRATE TAB 10 MG</td>\n",
       "      <td>2.45421e+07</td>\n",
       "      <td>90</td>\n",
       "      <td>255.00</td>\n",
       "      <td>NaN</td>\n",
       "      <td>NaN</td>\n",
       "      <td>NaN</td>\n",
       "      <td>NaN</td>\n",
       "      <td>NaN</td>\n",
       "      <td>NaN</td>\n",
       "      <td>NaN</td>\n",
       "      <td>NaN</td>\n",
       "      <td>-964</td>\n",
       "    </tr>\n",
       "    <tr>\n",
       "      <th>2</th>\n",
       "      <td>ID98975196852</td>\n",
       "      <td>RX Claim - Rejected</td>\n",
       "      <td>PRE-AUTH CLM</td>\n",
       "      <td>SYMPTOMS, SIGNS, ILL DEFINED CONDITIONS</td>\n",
       "      <td>NO DUAL COVERAGE</td>\n",
       "      <td>COPAY EXCEPTIONS</td>\n",
       "      <td>AMBIEN</td>\n",
       "      <td>ZOLPIDEM TARTRATE TAB 10 MG</td>\n",
       "      <td>2.45421e+07</td>\n",
       "      <td>10</td>\n",
       "      <td>63.15</td>\n",
       "      <td>NaN</td>\n",
       "      <td>NaN</td>\n",
       "      <td>NaN</td>\n",
       "      <td>NaN</td>\n",
       "      <td>NaN</td>\n",
       "      <td>NaN</td>\n",
       "      <td>NaN</td>\n",
       "      <td>NaN</td>\n",
       "      <td>-964</td>\n",
       "    </tr>\n",
       "    <tr>\n",
       "      <th>3</th>\n",
       "      <td>ID98975196852</td>\n",
       "      <td>RX Claim - New Drug</td>\n",
       "      <td>492700</td>\n",
       "      <td>PROTON PUMP INHIBITORS</td>\n",
       "      <td>OMEPRAZOLE</td>\n",
       "      <td>006</td>\n",
       "      <td>GASTRO</td>\n",
       "      <td>NaN</td>\n",
       "      <td>NaN</td>\n",
       "      <td>OMEPRAZOLE CAP DELAYED RELEASE 20 MG</td>\n",
       "      <td>7.15</td>\n",
       "      <td>49270060.0</td>\n",
       "      <td>NaN</td>\n",
       "      <td>NaN</td>\n",
       "      <td>NaN</td>\n",
       "      <td>NaN</td>\n",
       "      <td>NaN</td>\n",
       "      <td>NaN</td>\n",
       "      <td>NaN</td>\n",
       "      <td>-963</td>\n",
       "    </tr>\n",
       "    <tr>\n",
       "      <th>4</th>\n",
       "      <td>ID98975196852</td>\n",
       "      <td>RX Claim - Paid</td>\n",
       "      <td>PROTON PUMP INHIBITORS</td>\n",
       "      <td>NaN</td>\n",
       "      <td>7.15</td>\n",
       "      <td>0</td>\n",
       "      <td>OMEPRAZOLE</td>\n",
       "      <td>GASTRO</td>\n",
       "      <td>NaN</td>\n",
       "      <td>OMEPRAZOLE CAP DELAYED RELEASE 20 MG</td>\n",
       "      <td>7.15</td>\n",
       "      <td>49270060.0</td>\n",
       "      <td>NaN</td>\n",
       "      <td>NaN</td>\n",
       "      <td>NaN</td>\n",
       "      <td>NaN</td>\n",
       "      <td>NaN</td>\n",
       "      <td>NaN</td>\n",
       "      <td>NaN</td>\n",
       "      <td>-963</td>\n",
       "    </tr>\n",
       "  </tbody>\n",
       "</table>\n",
       "</div>"
      ],
      "text/plain": [
       "              ID          EVENT_DESCR             EVENT_ATTR1  \\\n",
       "0  ID98975196852  RX Claim - Rejected      DENY DUE TO ERRORS   \n",
       "1  ID98975196852  RX Claim - Rejected      DENY DUE TO ERRORS   \n",
       "2  ID98975196852  RX Claim - Rejected            PRE-AUTH CLM   \n",
       "3  ID98975196852  RX Claim - New Drug                  492700   \n",
       "4  ID98975196852      RX Claim - Paid  PROTON PUMP INHIBITORS   \n",
       "\n",
       "                               EVENT_ATTR2       EVENT_ATTR3  \\\n",
       "0  SYMPTOMS, SIGNS, ILL DEFINED CONDITIONS  NO DUAL COVERAGE   \n",
       "1  SYMPTOMS, SIGNS, ILL DEFINED CONDITIONS  NO DUAL COVERAGE   \n",
       "2  SYMPTOMS, SIGNS, ILL DEFINED CONDITIONS  NO DUAL COVERAGE   \n",
       "3                   PROTON PUMP INHIBITORS        OMEPRAZOLE   \n",
       "4                                      NaN              7.15   \n",
       "\n",
       "        EVENT_ATTR4 EVENT_ATTR5                  EVENT_ATTR6  EVENT_ATTR7  \\\n",
       "0  COPAY EXCEPTIONS      AMBIEN  ZOLPIDEM TARTRATE TAB 10 MG  2.45421e+07   \n",
       "1  COPAY EXCEPTIONS      AMBIEN  ZOLPIDEM TARTRATE TAB 10 MG  2.45421e+07   \n",
       "2  COPAY EXCEPTIONS      AMBIEN  ZOLPIDEM TARTRATE TAB 10 MG  2.45421e+07   \n",
       "3               006      GASTRO                          NaN          NaN   \n",
       "4                 0  OMEPRAZOLE                       GASTRO          NaN   \n",
       "\n",
       "                            EVENT_ATTR8  EVENT_ATTR9  EVENT_ATTR10  \\\n",
       "0                                   180       510.00           NaN   \n",
       "1                                    90       255.00           NaN   \n",
       "2                                    10        63.15           NaN   \n",
       "3  OMEPRAZOLE CAP DELAYED RELEASE 20 MG         7.15    49270060.0   \n",
       "4  OMEPRAZOLE CAP DELAYED RELEASE 20 MG         7.15    49270060.0   \n",
       "\n",
       "   PAY_DAY_SUPPLY_CNT  PAYABLE_QTY  MME DRUG_TYPE SPECIALTY SPECIALTY2  \\\n",
       "0                 NaN          NaN  NaN       NaN       NaN        NaN   \n",
       "1                 NaN          NaN  NaN       NaN       NaN        NaN   \n",
       "2                 NaN          NaN  NaN       NaN       NaN        NaN   \n",
       "3                 NaN          NaN  NaN       NaN       NaN        NaN   \n",
       "4                 NaN          NaN  NaN       NaN       NaN        NaN   \n",
       "\n",
       "  SPECIALTY3  days  \n",
       "0        NaN  -964  \n",
       "1        NaN  -964  \n",
       "2        NaN  -964  \n",
       "3        NaN  -963  \n",
       "4        NaN  -963  "
      ]
     },
     "execution_count": 4,
     "metadata": {},
     "output_type": "execute_result"
    }
   ],
   "source": [
    "holdout.head()"
   ]
  },
  {
   "cell_type": "code",
   "execution_count": 8,
   "metadata": {},
   "outputs": [],
   "source": [
    "holdout_opiod = holdout.loc[(holdout['EVENT_DESCR']=='RX Claim - Paid') & (holdout['MME'].notnull())]"
   ]
  },
  {
   "cell_type": "code",
   "execution_count": 11,
   "metadata": {},
   "outputs": [
    {
     "data": {
      "text/plain": [
       "(46674, 20)"
      ]
     },
     "execution_count": 11,
     "metadata": {},
     "output_type": "execute_result"
    }
   ],
   "source": [
    "holdout_opiod.shape"
   ]
  },
  {
   "cell_type": "code",
   "execution_count": 13,
   "metadata": {},
   "outputs": [
    {
     "data": {
      "text/plain": [
       "5984"
      ]
     },
     "execution_count": 13,
     "metadata": {},
     "output_type": "execute_result"
    }
   ],
   "source": [
    "len(holdout_opiod['ID'].unique())"
   ]
  },
  {
   "cell_type": "code",
   "execution_count": 17,
   "metadata": {},
   "outputs": [],
   "source": [
    "holdout_opiod = holdout_opiod.loc[holdout_opiod['days']<0,['ID','PAY_DAY_SUPPLY_CNT','days']]"
   ]
  },
  {
   "cell_type": "code",
   "execution_count": 21,
   "metadata": {},
   "outputs": [
    {
     "data": {
      "text/plain": [
       "4279"
      ]
     },
     "execution_count": 21,
     "metadata": {},
     "output_type": "execute_result"
    }
   ],
   "source": [
    "len(holdout_opiod['ID'].unique())"
   ]
  },
  {
   "cell_type": "code",
   "execution_count": 34,
   "metadata": {},
   "outputs": [
    {
     "data": {
      "text/html": [
       "<div>\n",
       "<style>\n",
       "    .dataframe thead tr:only-child th {\n",
       "        text-align: right;\n",
       "    }\n",
       "\n",
       "    .dataframe thead th {\n",
       "        text-align: left;\n",
       "    }\n",
       "\n",
       "    .dataframe tbody tr th {\n",
       "        vertical-align: top;\n",
       "    }\n",
       "</style>\n",
       "<table border=\"1\" class=\"dataframe\">\n",
       "  <thead>\n",
       "    <tr style=\"text-align: right;\">\n",
       "      <th></th>\n",
       "      <th>ID</th>\n",
       "      <th>PAY_DAY_SUPPLY_CNT</th>\n",
       "      <th>days</th>\n",
       "    </tr>\n",
       "  </thead>\n",
       "  <tbody>\n",
       "    <tr>\n",
       "      <th>1030678</th>\n",
       "      <td>ID10006701904</td>\n",
       "      <td>60.0</td>\n",
       "      <td>-331</td>\n",
       "    </tr>\n",
       "    <tr>\n",
       "      <th>1030715</th>\n",
       "      <td>ID10006701904</td>\n",
       "      <td>60.0</td>\n",
       "      <td>-245</td>\n",
       "    </tr>\n",
       "    <tr>\n",
       "      <th>1030737</th>\n",
       "      <td>ID10006701904</td>\n",
       "      <td>60.0</td>\n",
       "      <td>-198</td>\n",
       "    </tr>\n",
       "  </tbody>\n",
       "</table>\n",
       "</div>"
      ],
      "text/plain": [
       "                    ID  PAY_DAY_SUPPLY_CNT  days\n",
       "1030678  ID10006701904                60.0  -331\n",
       "1030715  ID10006701904                60.0  -245\n",
       "1030737  ID10006701904                60.0  -198"
      ]
     },
     "execution_count": 34,
     "metadata": {},
     "output_type": "execute_result"
    }
   ],
   "source": [
    "holdout_opiod[holdout_opiod['ID']=='ID10006701904']"
   ]
  },
  {
   "cell_type": "code",
   "execution_count": 37,
   "metadata": {},
   "outputs": [],
   "source": [
    "holdout_opiod_last_day = holdout_opiod.groupby(holdout_opiod['ID']).max()"
   ]
  },
  {
   "cell_type": "code",
   "execution_count": 45,
   "metadata": {},
   "outputs": [
    {
     "data": {
      "text/plain": [
       "PAY_DAY_SUPPLY_CNT    float64\n",
       "days                    int64\n",
       "dtype: object"
      ]
     },
     "execution_count": 45,
     "metadata": {},
     "output_type": "execute_result"
    }
   ],
   "source": [
    "holdout_opiod_last_day.dtypes"
   ]
  },
  {
   "cell_type": "code",
   "execution_count": null,
   "metadata": {},
   "outputs": [],
   "source": []
  }
 ],
 "metadata": {
  "kernelspec": {
   "display_name": "Python 3",
   "language": "python",
   "name": "python3"
  },
  "language_info": {
   "codemirror_mode": {
    "name": "ipython",
    "version": 3
   },
   "file_extension": ".py",
   "mimetype": "text/x-python",
   "name": "python",
   "nbconvert_exporter": "python",
   "pygments_lexer": "ipython3",
   "version": "3.6.2"
  }
 },
 "nbformat": 4,
 "nbformat_minor": 2
}
